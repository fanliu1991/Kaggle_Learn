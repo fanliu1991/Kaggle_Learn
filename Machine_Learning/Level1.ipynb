{
 "cells": [
  {
   "cell_type": "code",
   "execution_count": 10,
   "metadata": {},
   "outputs": [],
   "source": [
    "import pandas as pd\n",
    "from sklearn.tree import DecisionTreeRegressor\n",
    "from sklearn.metrics import mean_absolute_error\n",
    "from sklearn.model_selection import train_test_split\n",
    "from sklearn.ensemble import RandomForestRegressor\n",
    "\n",
    "# import data\n",
    "melbourne_data = pd.read_csv(\"melb_data.csv\")\n",
    "\n",
    "# print an overview of the data\n",
    "# print(melbourne_data.columns)\n",
    "# print(melbourne_data.head())\n",
    "\n",
    "# print a summary of the data\n",
    "# print(melbourne_data.describe())"
   ]
  },
  {
   "cell_type": "code",
   "execution_count": 11,
   "metadata": {},
   "outputs": [],
   "source": [
    "price_data = melbourne_data.Price\n",
    "# print(price_data.head())\n",
    "\n",
    "features = ['Rooms', 'Bathroom', 'Landsize', 'Lattitude', 'Longtitude']\n",
    "features_data = melbourne_data[features]\n",
    "# print(features_data.head())"
   ]
  },
  {
   "cell_type": "code",
   "execution_count": 13,
   "metadata": {},
   "outputs": [],
   "source": [
    "train_features, validation_features, train_price, validation_price = train_test_split(features_data, price_data, random_state = 0)"
   ]
  },
  {
   "cell_type": "code",
   "execution_count": 14,
   "metadata": {},
   "outputs": [
    {
     "name": "stdout",
     "output_type": "stream",
     "text": [
      "249226.6653902798\n"
     ]
    }
   ],
   "source": [
    "# Define model\n",
    "house_price_model = DecisionTreeRegressor()\n",
    "# Fit model\n",
    "house_price_model.fit(train_features, train_price)\n",
    "\n",
    "predicted_price = house_price_model.predict(validation_features)\n",
    "# # print(predicted_price)\n",
    "\n",
    "# # Mean Absolute Error (MAE)\n",
    "price_mae = mean_absolute_error(validation_price, predicted_price)\n",
    "print price_mae"
   ]
  },
  {
   "cell_type": "code",
   "execution_count": 15,
   "metadata": {},
   "outputs": [
    {
     "name": "stdout",
     "output_type": "stream",
     "text": [
      "Max leaf nodes: 5  \t\t Mean Absolute Error:  354837\n",
      "Max leaf nodes: 50  \t\t Mean Absolute Error:  266535\n",
      "Max leaf nodes: 500  \t\t Mean Absolute Error:  231409\n",
      "Max leaf nodes: 5000  \t\t Mean Absolute Error:  249341\n"
     ]
    }
   ],
   "source": [
    "# compare the accuracy of models built with different values for max_leaf_nodes\n",
    "# in order to avoid overfitting and underfitting\n",
    "def get_mae(max_leaf_nodes, train_features, validation_features, train_price, validation_price):\n",
    "    model = DecisionTreeRegressor(max_leaf_nodes=max_leaf_nodes, random_state=0)\n",
    "    model.fit(train_features, train_price)\n",
    "    validation_prediction = model.predict(validation_features)\n",
    "    mae = mean_absolute_error(validation_price, validation_prediction)\n",
    "    return(mae)\n",
    "\n",
    "for max_leaf_nodes in [5, 50, 500, 5000]:\n",
    "    my_mae = get_mae(max_leaf_nodes, train_features, validation_features, train_price, validation_price)\n",
    "    print(\"Max leaf nodes: %d  \\t\\t Mean Absolute Error:  %d\" %(max_leaf_nodes, my_mae))"
   ]
  },
  {
   "cell_type": "code",
   "execution_count": 16,
   "metadata": {},
   "outputs": [
    {
     "name": "stdout",
     "output_type": "stream",
     "text": [
      "189123.43426397364\n"
     ]
    }
   ],
   "source": [
    "# using random forest to improve predictive accuracy\n",
    "forest_model = RandomForestRegressor()\n",
    "forest_model.fit(train_features, train_price)\n",
    "forest_prediction = forest_model.predict(validation_features)\n",
    "print(mean_absolute_error(validation_price, forest_prediction))"
   ]
  },
  {
   "cell_type": "code",
   "execution_count": null,
   "metadata": {},
   "outputs": [],
   "source": [
    "my_submission = pd.DataFrame({'Id': test.Id, 'SalePrice': predicted_price})\n",
    "my_submission.to_csv('submission.csv', index=False)"
   ]
  }
 ],
 "metadata": {
  "kernelspec": {
   "display_name": "Python 2",
   "language": "python",
   "name": "python2"
  },
  "language_info": {
   "codemirror_mode": {
    "name": "ipython",
    "version": 2
   },
   "file_extension": ".py",
   "mimetype": "text/x-python",
   "name": "python",
   "nbconvert_exporter": "python",
   "pygments_lexer": "ipython2",
   "version": "2.7.12"
  }
 },
 "nbformat": 4,
 "nbformat_minor": 2
}
