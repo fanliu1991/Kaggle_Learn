{
 "cells": [
  {
   "cell_type": "code",
   "execution_count": 1,
   "metadata": {},
   "outputs": [],
   "source": [
    "# Partial Dependence Plots\n",
    "# can be interepreted similarly to the coefficients in linear or logistic regression models,\n",
    "# but partial dependence plots can capture more complex patterns, and they can be used with any model. "
   ]
  },
  {
   "cell_type": "code",
   "execution_count": 1,
   "metadata": {},
   "outputs": [],
   "source": [
    "import pandas as pd\n",
    "from sklearn.preprocessing import Imputer\n",
    "from sklearn.model_selection import train_test_split\n",
    "from sklearn.ensemble import RandomForestRegressor\n",
    "from sklearn.pipeline import make_pipeline\n",
    "\n",
    "from sklearn.ensemble.partial_dependence import partial_dependence, plot_partial_dependence\n",
    "from sklearn.ensemble import GradientBoostingRegressor, GradientBoostingClassifier"
   ]
  },
  {
   "cell_type": "code",
   "execution_count": 1,
   "metadata": {},
   "outputs": [],
   "source": [
    "# import data\n",
    "melbourne_data = pd.read_csv(\"melb_data.csv\")\n",
    "\n",
    "price_data = melbourne_data[\"Price\"]\n",
    "feature_col = [\"Distance\", \"Landsize\", \"BuildingArea\"]\n",
    "feature_data = melbourne_data[feature_col]\n",
    "\n",
    "my_imputer = Imputer()\n",
    "imputed_feature_data = my_imputer.fit_transform(feature_data)"
   ]
  },
  {
   "cell_type": "code",
   "execution_count": 14,
   "metadata": {},
   "outputs": [
    {
     "data": {
      "text/html": [
       "<div>\n",
       "<style scoped>\n",
       "    .dataframe tbody tr th:only-of-type {\n",
       "        vertical-align: middle;\n",
       "    }\n",
       "\n",
       "    .dataframe tbody tr th {\n",
       "        vertical-align: top;\n",
       "    }\n",
       "\n",
       "    .dataframe thead th {\n",
       "        text-align: right;\n",
       "    }\n",
       "</style>\n",
       "<table border=\"1\" class=\"dataframe\">\n",
       "  <thead>\n",
       "    <tr style=\"text-align: right;\">\n",
       "      <th></th>\n",
       "      <th>Distance</th>\n",
       "      <th>Landsize</th>\n",
       "      <th>BuildingArea</th>\n",
       "    </tr>\n",
       "  </thead>\n",
       "  <tbody>\n",
       "    <tr>\n",
       "      <th>0</th>\n",
       "      <td>2.5</td>\n",
       "      <td>202.0</td>\n",
       "      <td>151.96765</td>\n",
       "    </tr>\n",
       "    <tr>\n",
       "      <th>1</th>\n",
       "      <td>2.5</td>\n",
       "      <td>156.0</td>\n",
       "      <td>79.00000</td>\n",
       "    </tr>\n",
       "    <tr>\n",
       "      <th>2</th>\n",
       "      <td>2.5</td>\n",
       "      <td>134.0</td>\n",
       "      <td>150.00000</td>\n",
       "    </tr>\n",
       "    <tr>\n",
       "      <th>3</th>\n",
       "      <td>2.5</td>\n",
       "      <td>94.0</td>\n",
       "      <td>151.96765</td>\n",
       "    </tr>\n",
       "    <tr>\n",
       "      <th>4</th>\n",
       "      <td>2.5</td>\n",
       "      <td>120.0</td>\n",
       "      <td>142.00000</td>\n",
       "    </tr>\n",
       "  </tbody>\n",
       "</table>\n",
       "</div>"
      ],
      "text/plain": [
       "   Distance  Landsize  BuildingArea\n",
       "0       2.5     202.0     151.96765\n",
       "1       2.5     156.0      79.00000\n",
       "2       2.5     134.0     150.00000\n",
       "3       2.5      94.0     151.96765\n",
       "4       2.5     120.0     142.00000"
      ]
     },
     "execution_count": 14,
     "metadata": {},
     "output_type": "execute_result"
    }
   ],
   "source": [
    "pd.DataFrame(data=imputed_feature_data, columns = [\"Distance\", \"Landsize\", \"BuildingArea\"]).head()"
   ]
  },
  {
   "cell_type": "code",
   "execution_count": 21,
   "metadata": {
    "scrolled": true
   },
   "outputs": [
    {
     "data": {
      "image/png": "[encoded data removed]",
      "text/plain": [
       "<Figure size 432x288 with 3 Axes>"
      ]
     },
     "metadata": {},
     "output_type": "display_data"
    }
   ],
   "source": [
    "my_model = GradientBoostingRegressor()\n",
    "my_model.fit(imputed_feature_data, price_data)\n",
    "# make the plot\n",
    "my_plots = plot_partial_dependence(my_model,       \n",
    "                                   features=[0, 1, 2], # column numbers of plots we want to show\n",
    "                                   X=imputed_feature_data,            # raw predictors data.\n",
    "                                   feature_names=['Distance**', 'Landsize**', 'BuildingArea**'], # labels on graphs\n",
    "                                   grid_resolution=10) # number of values to plot on x axis"
   ]
  },
  {
   "cell_type": "code",
   "execution_count": null,
   "metadata": {},
   "outputs": [],
   "source": [
    "# Pipelines:\n",
    "# pipeline bundles preprocessing and modeling steps to keep your data processing and modeling code organized"
   ]
  },
  {
   "cell_type": "code",
   "execution_count": 2,
   "metadata": {},
   "outputs": [],
   "source": [
    "feature_col = ['Rooms', 'Distance', 'Landsize', 'BuildingArea', 'YearBuilt']\n",
    "feature_data = melbourne_data[feature_col]\n",
    "train_feature, test_feature, train_price, test_price = train_test_split(feature_data, price_data)"
   ]
  },
  {
   "cell_type": "code",
   "execution_count": 9,
   "metadata": {},
   "outputs": [],
   "source": [
    "# a modeling process that uses an Imputer to fill in missing values,\n",
    "# followed by a RandomForestRegressor to make predictions\n",
    "# these can be bundled together with the make_pipeline function\n",
    "\n",
    "my_pipeline = make_pipeline(Imputer(), RandomForestRegressor())\n",
    "my_pipeline.fit(train_feature, train_price)\n",
    "predictions = my_pipeline.predict(test_feature)\n",
    "\n",
    "\n",
    "# the above is equivalent to following:\n",
    "\n",
    "# my_imputer = Imputer()\n",
    "# my_model = RandomForestRegressor()\n",
    "\n",
    "# imputed_train_X = my_imputer.fit_transform(train_X)\n",
    "# imputed_test_X = my_imputer.transform(test_X)\n",
    "# my_model.fit(imputed_train_X, train_y)\n",
    "# predictions = my_model.predict(imputed_test_X)\n"
   ]
  },
  {
   "cell_type": "code",
   "execution_count": 10,
   "metadata": {
    "scrolled": true
   },
   "outputs": [
    {
     "data": {
      "text/plain": [
       "Pipeline(memory=None,\n",
       "     steps=[('imputer', Imputer(axis=0, copy=True, missing_values='NaN', strategy='mean', verbose=0)), ('randomforestregressor', RandomForestRegressor(bootstrap=True, criterion='mse', max_depth=None,\n",
       "           max_features='auto', max_leaf_nodes=None,\n",
       "           min_impurity_decrease=0.0, min_impurity_s...timators=10, n_jobs=1,\n",
       "           oob_score=False, random_state=None, verbose=0, warm_start=False))])"
      ]
     },
     "execution_count": 10,
     "metadata": {},
     "output_type": "execute_result"
    }
   ],
   "source": [
    "my_pipeline"
   ]
  },
  {
   "cell_type": "code",
   "execution_count": 11,
   "metadata": {},
   "outputs": [
    {
     "ename": "ImportError",
     "evalue": "No module named xgboost",
     "output_type": "error",
     "traceback": [
      "\u001b[0;31m---------------------------------------------------------------------------\u001b[0m",
      "\u001b[0;31mImportError\u001b[0m                               Traceback (most recent call last)",
      "\u001b[0;32m<ipython-input-11-dab594f9441b>\u001b[0m in \u001b[0;36m<module>\u001b[0;34m()\u001b[0m\n\u001b[1;32m      1\u001b[0m \u001b[0;31m# set the fit_params argument\u001b[0m\u001b[0;34m\u001b[0m\u001b[0;34m\u001b[0m\u001b[0m\n\u001b[0;32m----> 2\u001b[0;31m \u001b[0;32mfrom\u001b[0m \u001b[0mxgboost\u001b[0m \u001b[0;32mimport\u001b[0m \u001b[0mXGBRegressor\u001b[0m\u001b[0;34m\u001b[0m\u001b[0m\n\u001b[0m\u001b[1;32m      3\u001b[0m \u001b[0mmy_pipeline\u001b[0m \u001b[0;34m=\u001b[0m \u001b[0mmake_pipeline\u001b[0m\u001b[0;34m(\u001b[0m\u001b[0mImputer\u001b[0m\u001b[0;34m(\u001b[0m\u001b[0;34m)\u001b[0m\u001b[0;34m,\u001b[0m \u001b[0mXGBRegressor\u001b[0m\u001b[0;34m(\u001b[0m\u001b[0;34m)\u001b[0m\u001b[0;34m)\u001b[0m\u001b[0;34m\u001b[0m\u001b[0m\n\u001b[1;32m      4\u001b[0m my_pipeline.fit(train_feature, train_price, \n\u001b[1;32m      5\u001b[0m                 xgbregressor__early_stopping_rounds=5, xgbregressor__eval_set=[(test_feature, test_price)], xgbregressor__verbose=False)\n",
      "\u001b[0;31mImportError\u001b[0m: No module named xgboost"
     ]
    }
   ],
   "source": [
    "# set the fit_params argument\n",
    "from xgboost import XGBRegressor\n",
    "my_pipeline = make_pipeline(Imputer(), XGBRegressor())\n",
    "my_pipeline.fit(train_feature, train_price, \n",
    "                xgbregressor__early_stopping_rounds=5, xgbregressor__eval_set=[(test_feature, test_price)], xgbregressor__verbose=False)"
   ]
  },
  {
   "cell_type": "code",
   "execution_count": null,
   "metadata": {},
   "outputs": [],
   "source": [
    "# The Cross-Validation Procedure\n",
    "# cross-validation helps with parameter tuning, but it also prevents from overfitting\n",
    "# It can be very difficult to do cross-validation properly if you arent't using pipelines\n",
    "from sklearn.model_selection import cross_val_score\n",
    "# 5-fold cross-validation\n",
    "scores = cross_val_score(my_pipeline, feature_data, price_data, scoring='neg_mean_absolute_error', cv=5)\n",
    "print(scores)\n",
    "\n",
    "# \"scoring\" argument specifies what measure of model quality to report, there is a list of options\n",
    "# http://scikit-learn.org/stable/modules/model_evaluation.html\n",
    "\n",
    "# suppose we use n-fold cross-validation, then there would be n values in scores\n",
    "# to use a single measure of model quality to compare between models, we may take the average across experiments.\n",
    "average_mae = -1 * scores.mean()"
   ]
  },
  {
   "cell_type": "code",
   "execution_count": null,
   "metadata": {},
   "outputs": [],
   "source": [
    "# Data Leakage\n",
    "# There are two main types of leakage: Leaky Predictors and a Leaky Validation Strategies.\n",
    "\n",
    "# Leaky Predictors:\n",
    "# in the training dataset, a variable is updated (or created) after the target value is realized,\n",
    "# so in the model this variable has a strong relationship with target value,\n",
    "# however when we use this model to make new predictions, that data won't be available to the model.\n",
    "\n",
    "# Leaky Validation Strategy\n",
    "# occurs when you aren't careful distinguishing training data from validation data,\n",
    "# the result is the model will get very good validation scores,\n",
    "# but perform poorly when it is deployed to make decisions."
   ]
  },
  {
   "cell_type": "code",
   "execution_count": 2,
   "metadata": {},
   "outputs": [],
   "source": [
    "# data = pd.read_csv(\"AER_credit_card_data.csv\")\n",
    "\"\"\"\n",
    "  card  reports       age  income     share  expenditure owner selfemp  \\\n",
    "0  yes        0  37.66667  4.5200  0.033270   124.983300   yes      no   \n",
    "1  yes        0  33.25000  2.4200  0.005217     9.854167    no      no   \n",
    "2  yes        0  33.66667  4.5000  0.004156    15.000000   yes      no   \n",
    "3  yes        0  30.50000  2.5400  0.065214   137.869200    no      no   \n",
    "4  yes        0  32.16667  9.7867  0.067051   546.503300   yes      no   \n",
    "\n",
    "   dependents  months  majorcards  active  \n",
    "0           3      54           1      12  \n",
    "1           3      34           1      13  \n",
    "2           4      58           1       5  \n",
    "3           0      25           1       7  \n",
    "4           2      64           1       5  \n",
    "\"\"\""
   ]
  },
  {
   "cell_type": "code",
   "execution_count": 7,
   "metadata": {},
   "outputs": [
    {
     "name": "stdout",
     "output_type": "stream",
     "text": [
      "   card  reports       age  income     share  expenditure  owner  selfemp  \\\n",
      "0  True        0  37.66667  4.5200  0.033270   124.983300   True    False   \n",
      "1  True        0  33.25000  2.4200  0.005217     9.854167  False    False   \n",
      "2  True        0  33.66667  4.5000  0.004156    15.000000   True    False   \n",
      "3  True        0  30.50000  2.5400  0.065214   137.869200  False    False   \n",
      "4  True        0  32.16667  9.7867  0.067051   546.503300   True    False   \n",
      "\n",
      "   dependents  months  majorcards  active  \n",
      "0           3      54           1      12  \n",
      "1           3      34           1      13  \n",
      "2           4      58           1       5  \n",
      "3           0      25           1       7  \n",
      "4           2      64           1       5  \n"
     ]
    },
    {
     "data": {
      "text/plain": [
       "(1319, 12)"
      ]
     },
     "execution_count": 7,
     "metadata": {},
     "output_type": "execute_result"
    }
   ],
   "source": [
    "data = pd.read_csv(\"AER_credit_card_data.csv\", true_values = ['yes'], false_values = ['no'])\n",
    "print(data.head())\n",
    "data.shape"
   ]
  },
  {
   "cell_type": "code",
   "execution_count": 12,
   "metadata": {},
   "outputs": [
    {
     "name": "stdout",
     "output_type": "stream",
     "text": [
      "0    True\n",
      "1    True\n",
      "2    True\n",
      "3    True\n",
      "4    True\n",
      "Name: card, dtype: bool\n",
      "   reports       age  income     share  expenditure  owner  selfemp  \\\n",
      "0        0  37.66667  4.5200  0.033270   124.983300   True    False   \n",
      "1        0  33.25000  2.4200  0.005217     9.854167  False    False   \n",
      "2        0  33.66667  4.5000  0.004156    15.000000   True    False   \n",
      "3        0  30.50000  2.5400  0.065214   137.869200  False    False   \n",
      "4        0  32.16667  9.7867  0.067051   546.503300   True    False   \n",
      "\n",
      "   dependents  months  majorcards  active  \n",
      "0           3      54           1      12  \n",
      "1           3      34           1      13  \n",
      "2           4      58           1       5  \n",
      "3           0      25           1       7  \n",
      "4           2      64           1       5  \n"
     ]
    }
   ],
   "source": [
    "from sklearn.ensemble import RandomForestClassifier\n",
    "from sklearn.model_selection import cross_val_score\n",
    "target = data[\"card\"]\n",
    "features = data.drop([\"card\"], axis=1)\n",
    "print(target.head())\n",
    "print(features.head())"
   ]
  },
  {
   "cell_type": "code",
   "execution_count": 14,
   "metadata": {},
   "outputs": [
    {
     "name": "stdout",
     "output_type": "stream",
     "text": [
      "Cross-val accuracy: 0.978765\n"
     ]
    }
   ],
   "source": [
    "modeling_pipeline = make_pipeline(RandomForestClassifier())\n",
    "cv_scores = cross_val_score(modeling_pipeline, features, target, scoring='accuracy')\n",
    "print(\"Cross-val accuracy: %f\" %cv_scores.mean())"
   ]
  },
  {
   "cell_type": "code",
   "execution_count": 28,
   "metadata": {},
   "outputs": [
    {
     "name": "stdout",
     "output_type": "stream",
     "text": [
      "11    0.0\n",
      "12    0.0\n",
      "17    0.0\n",
      "19    0.0\n",
      "21    0.0\n",
      "Name: expenditure, dtype: float64\n"
     ]
    }
   ],
   "source": [
    "# produce a basic data comparisons about \"expenditure\"\n",
    "\n",
    "# expenditures_cardholders = data.expenditure[data.card]\n",
    "# expenditures_noncardholders = data.expenditure[~data.card]\n",
    "# the above two are equivalent to below:\n",
    "\n",
    "expenditures_cardholders = data[\"expenditure\"][data[\"card\"] == True]\n",
    "expenditures_noncardholders = data[\"expenditure\"][data[\"card\"] == False]\n",
    "print(expenditures_noncardholders.head())"
   ]
  },
  {
   "cell_type": "code",
   "execution_count": 29,
   "metadata": {},
   "outputs": [
    {
     "name": "stdout",
     "output_type": "stream",
     "text": [
      "0.020527859237536656\n",
      "1.0\n"
     ]
    }
   ],
   "source": [
    "# Fraction of those who received a card with no expenditures\n",
    "print((expenditures_cardholders == 0).mean())\n",
    "# Fraction of those who not received a card with no expenditures\n",
    "print((expenditures_noncardholders == 0).mean())\n",
    "\n",
    "# this seems a data leak, where \"expenditures\" probably means expenditures on the card they applied for,\n",
    "# and \"share\" is partially determined by \"expenditure\" too."
   ]
  },
  {
   "cell_type": "code",
   "execution_count": 31,
   "metadata": {},
   "outputs": [
    {
     "name": "stdout",
     "output_type": "stream",
     "text": [
      "Cross-val accuracy: 0.808200\n"
     ]
    }
   ],
   "source": [
    "# model without data leakage\n",
    "potential_leaks = ['expenditure', 'share', 'active', 'majorcards']\n",
    "features_wo_leaks = features.drop(potential_leaks, axis=1)\n",
    "cv_scores = cross_val_score(modeling_pipeline, features_wo_leaks, target, scoring='accuracy')\n",
    "print(\"Cross-val accuracy: %f\" %cv_scores.mean())"
   ]
  }
 ],
 "metadata": {
  "kernelspec": {
   "display_name": "Python 2",
   "language": "python",
   "name": "python2"
  },
  "language_info": {
   "codemirror_mode": {
    "name": "ipython",
    "version": 2
   },
   "file_extension": ".py",
   "mimetype": "text/x-python",
   "name": "python",
   "nbconvert_exporter": "python",
   "pygments_lexer": "ipython2",
   "version": "2.7.12"
  }
 },
 "nbformat": 4,
 "nbformat_minor": 2
}
